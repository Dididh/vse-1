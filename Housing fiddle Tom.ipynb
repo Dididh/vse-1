{
 "cells": [
  {
   "cell_type": "code",
   "execution_count": 3,
   "metadata": {
    "collapsed": false
   },
   "outputs": [],
   "source": [
    "import graphlab\n"
   ]
  },
  {
   "cell_type": "code",
   "execution_count": 11,
   "metadata": {
    "collapsed": false
   },
   "outputs": [
    {
     "data": {
      "text/html": [
       "<pre>Finished parsing file /Users/tomarnoldussen/Dropbox/Information Studies/2/Applied Machine Learning Visual Search Engines/Housing prices/train.csv</pre>"
      ],
      "text/plain": [
       "Finished parsing file /Users/tomarnoldussen/Dropbox/Information Studies/2/Applied Machine Learning Visual Search Engines/Housing prices/train.csv"
      ]
     },
     "metadata": {},
     "output_type": "display_data"
    },
    {
     "data": {
      "text/html": [
       "<pre>Parsing completed. Parsed 100 lines in 0.043056 secs.</pre>"
      ],
      "text/plain": [
       "Parsing completed. Parsed 100 lines in 0.043056 secs."
      ]
     },
     "metadata": {},
     "output_type": "display_data"
    },
    {
     "name": "stdout",
     "output_type": "stream",
     "text": [
      "------------------------------------------------------\n",
      "Inferred types from first 100 line(s) of file as \n",
      "column_type_hints=[int,int,str,int,int,str,str,str,str,str,str,str,str,str,str,str,str,int,int,int,int,str,str,str,str,str,int,str,str,str,str,str,str,str,int,str,int,int,int,str,str,str,str,int,int,int,int,int,int,int,int,int,int,str,int,str,int,str,str,int,str,int,int,str,str,str,int,int,int,int,int,int,str,str,str,int,int,int,str,str,int]\n",
      "If parsing fails due to incorrect types, you can correct\n",
      "the inferred type list above and pass it to read_csv in\n",
      "the column_type_hints argument\n",
      "------------------------------------------------------\n"
     ]
    },
    {
     "data": {
      "text/html": [
       "<pre>Finished parsing file /Users/tomarnoldussen/Dropbox/Information Studies/2/Applied Machine Learning Visual Search Engines/Housing prices/train.csv</pre>"
      ],
      "text/plain": [
       "Finished parsing file /Users/tomarnoldussen/Dropbox/Information Studies/2/Applied Machine Learning Visual Search Engines/Housing prices/train.csv"
      ]
     },
     "metadata": {},
     "output_type": "display_data"
    },
    {
     "data": {
      "text/html": [
       "<pre>Parsing completed. Parsed 1460 lines in 0.020975 secs.</pre>"
      ],
      "text/plain": [
       "Parsing completed. Parsed 1460 lines in 0.020975 secs."
      ]
     },
     "metadata": {},
     "output_type": "display_data"
    },
    {
     "data": {
      "text/html": [
       "<pre>Finished parsing file /Users/tomarnoldussen/Dropbox/Information Studies/2/Applied Machine Learning Visual Search Engines/Housing prices/test.csv</pre>"
      ],
      "text/plain": [
       "Finished parsing file /Users/tomarnoldussen/Dropbox/Information Studies/2/Applied Machine Learning Visual Search Engines/Housing prices/test.csv"
      ]
     },
     "metadata": {},
     "output_type": "display_data"
    },
    {
     "data": {
      "text/html": [
       "<pre>Parsing completed. Parsed 100 lines in 0.028276 secs.</pre>"
      ],
      "text/plain": [
       "Parsing completed. Parsed 100 lines in 0.028276 secs."
      ]
     },
     "metadata": {},
     "output_type": "display_data"
    },
    {
     "name": "stdout",
     "output_type": "stream",
     "text": [
      "------------------------------------------------------\n",
      "Inferred types from first 100 line(s) of file as \n",
      "column_type_hints=[int,int,str,int,int,str,str,str,str,str,str,str,str,str,str,str,str,int,int,int,int,str,str,str,str,str,int,str,str,str,str,str,str,str,int,str,int,int,int,str,str,str,str,int,int,int,int,int,int,int,int,int,int,str,int,str,int,str,str,int,str,int,int,str,str,str,int,int,int,int,int,int,str,str,str,int,int,int,str,str]\n",
      "If parsing fails due to incorrect types, you can correct\n",
      "the inferred type list above and pass it to read_csv in\n",
      "the column_type_hints argument\n",
      "------------------------------------------------------\n"
     ]
    },
    {
     "data": {
      "text/html": [
       "<pre>Finished parsing file /Users/tomarnoldussen/Dropbox/Information Studies/2/Applied Machine Learning Visual Search Engines/Housing prices/test.csv</pre>"
      ],
      "text/plain": [
       "Finished parsing file /Users/tomarnoldussen/Dropbox/Information Studies/2/Applied Machine Learning Visual Search Engines/Housing prices/test.csv"
      ]
     },
     "metadata": {},
     "output_type": "display_data"
    },
    {
     "data": {
      "text/html": [
       "<pre>Parsing completed. Parsed 1459 lines in 0.020803 secs.</pre>"
      ],
      "text/plain": [
       "Parsing completed. Parsed 1459 lines in 0.020803 secs."
      ]
     },
     "metadata": {},
     "output_type": "display_data"
    }
   ],
   "source": [
    "trainData = graphlab.SFrame('train.csv')\n",
    "testData = graphlab.SFrame('test.csv')"
   ]
  },
  {
   "cell_type": "code",
   "execution_count": 10,
   "metadata": {
    "collapsed": false
   },
   "outputs": [
    {
     "name": "stdout",
     "output_type": "stream",
     "text": [
      "+----+------------+----------+-------------+---------+--------+-------+----------+\n",
      "| Id | MSSubClass | MSZoning | LotFrontage | LotArea | Street | Alley | LotShape |\n",
      "+----+------------+----------+-------------+---------+--------+-------+----------+\n",
      "| 1  |     60     |    RL    |      65     |   8450  |  Pave  |  None |   Reg    |\n",
      "| 2  |     20     |    RL    |      80     |   9600  |  Pave  |  None |   Reg    |\n",
      "| 3  |     60     |    RL    |      68     |  11250  |  Pave  |  None |   IR1    |\n",
      "| 4  |     70     |    RL    |      60     |   9550  |  Pave  |  None |   IR1    |\n",
      "| 5  |     60     |    RL    |      84     |  14260  |  Pave  |  None |   IR1    |\n",
      "| 6  |     50     |    RL    |      85     |  14115  |  Pave  |  None |   IR1    |\n",
      "| 7  |     20     |    RL    |      75     |  10084  |  Pave  |  None |   Reg    |\n",
      "| 8  |     60     |    RL    |     None    |  10382  |  Pave  |  None |   IR1    |\n",
      "| 9  |     50     |    RM    |      51     |   6120  |  Pave  |  None |   Reg    |\n",
      "| 10 |    190     |    RL    |      50     |   7420  |  Pave  |  None |   Reg    |\n",
      "| 11 |     20     |    RL    |      70     |  11200  |  Pave  |  None |   Reg    |\n",
      "| 12 |     60     |    RL    |      85     |  11924  |  Pave  |  None |   IR1    |\n",
      "| 13 |     20     |    RL    |     None    |  12968  |  Pave  |  None |   IR2    |\n",
      "| 14 |     20     |    RL    |      91     |  10652  |  Pave  |  None |   IR1    |\n",
      "| 15 |     20     |    RL    |     None    |  10920  |  Pave  |  None |   IR1    |\n",
      "| 16 |     45     |    RM    |      51     |   6120  |  Pave  |  None |   Reg    |\n",
      "| 17 |     20     |    RL    |     None    |  11241  |  Pave  |  None |   IR1    |\n",
      "| 18 |     90     |    RL    |      72     |  10791  |  Pave  |  None |   Reg    |\n",
      "| 19 |     20     |    RL    |      66     |  13695  |  Pave  |  None |   Reg    |\n",
      "| 20 |     20     |    RL    |      70     |   7560  |  Pave  |  None |   Reg    |\n",
      "+----+------------+----------+-------------+---------+--------+-------+----------+\n",
      "+-------------+-----------+-----------+-----------+--------------+------------+\n",
      "| LandContour | Utilities | LotConfig | LandSlope | Neighborhood | Condition1 |\n",
      "+-------------+-----------+-----------+-----------+--------------+------------+\n",
      "|     Lvl     |   AllPub  |   Inside  |    Gtl    |   CollgCr    |    Norm    |\n",
      "|     Lvl     |   AllPub  |    FR2    |    Gtl    |   Veenker    |   Feedr    |\n",
      "|     Lvl     |   AllPub  |   Inside  |    Gtl    |   CollgCr    |    Norm    |\n",
      "|     Lvl     |   AllPub  |   Corner  |    Gtl    |   Crawfor    |    Norm    |\n",
      "|     Lvl     |   AllPub  |    FR2    |    Gtl    |   NoRidge    |    Norm    |\n",
      "|     Lvl     |   AllPub  |   Inside  |    Gtl    |   Mitchel    |    Norm    |\n",
      "|     Lvl     |   AllPub  |   Inside  |    Gtl    |   Somerst    |    Norm    |\n",
      "|     Lvl     |   AllPub  |   Corner  |    Gtl    |    NWAmes    |    PosN    |\n",
      "|     Lvl     |   AllPub  |   Inside  |    Gtl    |   OldTown    |   Artery   |\n",
      "|     Lvl     |   AllPub  |   Corner  |    Gtl    |   BrkSide    |   Artery   |\n",
      "|     Lvl     |   AllPub  |   Inside  |    Gtl    |    Sawyer    |    Norm    |\n",
      "|     Lvl     |   AllPub  |   Inside  |    Gtl    |   NridgHt    |    Norm    |\n",
      "|     Lvl     |   AllPub  |   Inside  |    Gtl    |    Sawyer    |    Norm    |\n",
      "|     Lvl     |   AllPub  |   Inside  |    Gtl    |   CollgCr    |    Norm    |\n",
      "|     Lvl     |   AllPub  |   Corner  |    Gtl    |    NAmes     |    Norm    |\n",
      "|     Lvl     |   AllPub  |   Corner  |    Gtl    |   BrkSide    |    Norm    |\n",
      "|     Lvl     |   AllPub  |  CulDSac  |    Gtl    |    NAmes     |    Norm    |\n",
      "|     Lvl     |   AllPub  |   Inside  |    Gtl    |    Sawyer    |    Norm    |\n",
      "|     Lvl     |   AllPub  |   Inside  |    Gtl    |   SawyerW    |    RRAe    |\n",
      "|     Lvl     |   AllPub  |   Inside  |    Gtl    |    NAmes     |    Norm    |\n",
      "+-------------+-----------+-----------+-----------+--------------+------------+\n",
      "+------------+----------+------------+-------------+-------------+-----------+\n",
      "| Condition2 | BldgType | HouseStyle | OverallQual | OverallCond | YearBuilt |\n",
      "+------------+----------+------------+-------------+-------------+-----------+\n",
      "|    Norm    |   1Fam   |   2Story   |      7      |      5      |    2003   |\n",
      "|    Norm    |   1Fam   |   1Story   |      6      |      8      |    1976   |\n",
      "|    Norm    |   1Fam   |   2Story   |      7      |      5      |    2001   |\n",
      "|    Norm    |   1Fam   |   2Story   |      7      |      5      |    1915   |\n",
      "|    Norm    |   1Fam   |   2Story   |      8      |      5      |    2000   |\n",
      "|    Norm    |   1Fam   |   1.5Fin   |      5      |      5      |    1993   |\n",
      "|    Norm    |   1Fam   |   1Story   |      8      |      5      |    2004   |\n",
      "|    Norm    |   1Fam   |   2Story   |      7      |      6      |    1973   |\n",
      "|    Norm    |   1Fam   |   1.5Fin   |      7      |      5      |    1931   |\n",
      "|   Artery   |  2fmCon  |   1.5Unf   |      5      |      6      |    1939   |\n",
      "|    Norm    |   1Fam   |   1Story   |      5      |      5      |    1965   |\n",
      "|    Norm    |   1Fam   |   2Story   |      9      |      5      |    2005   |\n",
      "|    Norm    |   1Fam   |   1Story   |      5      |      6      |    1962   |\n",
      "|    Norm    |   1Fam   |   1Story   |      7      |      5      |    2006   |\n",
      "|    Norm    |   1Fam   |   1Story   |      6      |      5      |    1960   |\n",
      "|    Norm    |   1Fam   |   1.5Unf   |      7      |      8      |    1929   |\n",
      "|    Norm    |   1Fam   |   1Story   |      6      |      7      |    1970   |\n",
      "|    Norm    |  Duplex  |   1Story   |      4      |      5      |    1967   |\n",
      "|    Norm    |   1Fam   |   1Story   |      5      |      5      |    2004   |\n",
      "|    Norm    |   1Fam   |   1Story   |      5      |      6      |    1958   |\n",
      "+------------+----------+------------+-------------+-------------+-----------+\n",
      "+--------------+-----------+----------+-------------+-------------+------------+\n",
      "| YearRemodAdd | RoofStyle | RoofMatl | Exterior1st | Exterior2nd | MasVnrType |\n",
      "+--------------+-----------+----------+-------------+-------------+------------+\n",
      "|     2003     |   Gable   | CompShg  |   VinylSd   |   VinylSd   |  BrkFace   |\n",
      "|     1976     |   Gable   | CompShg  |   MetalSd   |   MetalSd   |    None    |\n",
      "|     2002     |   Gable   | CompShg  |   VinylSd   |   VinylSd   |  BrkFace   |\n",
      "|     1970     |   Gable   | CompShg  |   Wd Sdng   |   Wd Shng   |    None    |\n",
      "|     2000     |   Gable   | CompShg  |   VinylSd   |   VinylSd   |  BrkFace   |\n",
      "|     1995     |   Gable   | CompShg  |   VinylSd   |   VinylSd   |    None    |\n",
      "|     2005     |   Gable   | CompShg  |   VinylSd   |   VinylSd   |   Stone    |\n",
      "|     1973     |   Gable   | CompShg  |   HdBoard   |   HdBoard   |   Stone    |\n",
      "|     1950     |   Gable   | CompShg  |   BrkFace   |   Wd Shng   |    None    |\n",
      "|     1950     |   Gable   | CompShg  |   MetalSd   |   MetalSd   |    None    |\n",
      "|     1965     |    Hip    | CompShg  |   HdBoard   |   HdBoard   |    None    |\n",
      "|     2006     |    Hip    | CompShg  |   WdShing   |   Wd Shng   |   Stone    |\n",
      "|     1962     |    Hip    | CompShg  |   HdBoard   |   Plywood   |    None    |\n",
      "|     2007     |   Gable   | CompShg  |   VinylSd   |   VinylSd   |   Stone    |\n",
      "|     1960     |    Hip    | CompShg  |   MetalSd   |   MetalSd   |  BrkFace   |\n",
      "|     2001     |   Gable   | CompShg  |   Wd Sdng   |   Wd Sdng   |    None    |\n",
      "|     1970     |   Gable   | CompShg  |   Wd Sdng   |   Wd Sdng   |  BrkFace   |\n",
      "|     1967     |   Gable   | CompShg  |   MetalSd   |   MetalSd   |    None    |\n",
      "|     2004     |   Gable   | CompShg  |   VinylSd   |   VinylSd   |    None    |\n",
      "|     1965     |    Hip    | CompShg  |   BrkFace   |   Plywood   |    None    |\n",
      "+--------------+-----------+----------+-------------+-------------+------------+\n",
      "+------------+-----------+-----------+------------+----------+----------+--------------+\n",
      "| MasVnrArea | ExterQual | ExterCond | Foundation | BsmtQual | BsmtCond | BsmtExposure |\n",
      "+------------+-----------+-----------+------------+----------+----------+--------------+\n",
      "|    196     |     Gd    |     TA    |   PConc    |    Gd    |    TA    |      No      |\n",
      "|     0      |     TA    |     TA    |   CBlock   |    Gd    |    TA    |      Gd      |\n",
      "|    162     |     Gd    |     TA    |   PConc    |    Gd    |    TA    |      Mn      |\n",
      "|     0      |     TA    |     TA    |   BrkTil   |    TA    |    Gd    |      No      |\n",
      "|    350     |     Gd    |     TA    |   PConc    |    Gd    |    TA    |      Av      |\n",
      "|     0      |     TA    |     TA    |    Wood    |    Gd    |    TA    |      No      |\n",
      "|    186     |     Gd    |     TA    |   PConc    |    Ex    |    TA    |      Av      |\n",
      "|    240     |     TA    |     TA    |   CBlock   |    Gd    |    TA    |      Mn      |\n",
      "|     0      |     TA    |     TA    |   BrkTil   |    TA    |    TA    |      No      |\n",
      "|     0      |     TA    |     TA    |   BrkTil   |    TA    |    TA    |      No      |\n",
      "|     0      |     TA    |     TA    |   CBlock   |    TA    |    TA    |      No      |\n",
      "|    286     |     Ex    |     TA    |   PConc    |    Ex    |    TA    |      No      |\n",
      "|     0      |     TA    |     TA    |   CBlock   |    TA    |    TA    |      No      |\n",
      "|    306     |     Gd    |     TA    |   PConc    |    Gd    |    TA    |      Av      |\n",
      "|    212     |     TA    |     TA    |   CBlock   |    TA    |    TA    |      No      |\n",
      "|     0      |     TA    |     TA    |   BrkTil   |    TA    |    TA    |      No      |\n",
      "|    180     |     TA    |     TA    |   CBlock   |    TA    |    TA    |      No      |\n",
      "|     0      |     TA    |     TA    |    Slab    |   None   |   None   |     None     |\n",
      "|     0      |     TA    |     TA    |   PConc    |    TA    |    TA    |      No      |\n",
      "|     0      |     TA    |     TA    |   CBlock   |    TA    |    TA    |      No      |\n",
      "+------------+-----------+-----------+------------+----------+----------+--------------+\n",
      "+--------------+------------+--------------+------------+-----------+-------------+\n",
      "| BsmtFinType1 | BsmtFinSF1 | BsmtFinType2 | BsmtFinSF2 | BsmtUnfSF | TotalBsmtSF |\n",
      "+--------------+------------+--------------+------------+-----------+-------------+\n",
      "|     GLQ      |    706     |     Unf      |     0      |    150    |     856     |\n",
      "|     ALQ      |    978     |     Unf      |     0      |    284    |     1262    |\n",
      "|     GLQ      |    486     |     Unf      |     0      |    434    |     920     |\n",
      "|     ALQ      |    216     |     Unf      |     0      |    540    |     756     |\n",
      "|     GLQ      |    655     |     Unf      |     0      |    490    |     1145    |\n",
      "|     GLQ      |    732     |     Unf      |     0      |     64    |     796     |\n",
      "|     GLQ      |    1369    |     Unf      |     0      |    317    |     1686    |\n",
      "|     ALQ      |    859     |     BLQ      |     32     |    216    |     1107    |\n",
      "|     Unf      |     0      |     Unf      |     0      |    952    |     952     |\n",
      "|     GLQ      |    851     |     Unf      |     0      |    140    |     991     |\n",
      "|     Rec      |    906     |     Unf      |     0      |    134    |     1040    |\n",
      "|     GLQ      |    998     |     Unf      |     0      |    177    |     1175    |\n",
      "|     ALQ      |    737     |     Unf      |     0      |    175    |     912     |\n",
      "|     Unf      |     0      |     Unf      |     0      |    1494   |     1494    |\n",
      "|     BLQ      |    733     |     Unf      |     0      |    520    |     1253    |\n",
      "|     Unf      |     0      |     Unf      |     0      |    832    |     832     |\n",
      "|     ALQ      |    578     |     Unf      |     0      |    426    |     1004    |\n",
      "|     None     |     0      |     None     |     0      |     0     |      0      |\n",
      "|     GLQ      |    646     |     Unf      |     0      |    468    |     1114    |\n",
      "|     LwQ      |    504     |     Unf      |     0      |    525    |     1029    |\n",
      "+--------------+------------+--------------+------------+-----------+-------------+\n",
      "+---------+-----------+------------+------------+----------+----------+--------------+\n",
      "| Heating | HeatingQC | CentralAir | Electrical | 1stFlrSF | 2ndFlrSF | LowQualFinSF |\n",
      "+---------+-----------+------------+------------+----------+----------+--------------+\n",
      "|   GasA  |     Ex    |     Y      |   SBrkr    |   856    |   854    |      0       |\n",
      "|   GasA  |     Ex    |     Y      |   SBrkr    |   1262   |    0     |      0       |\n",
      "|   GasA  |     Ex    |     Y      |   SBrkr    |   920    |   866    |      0       |\n",
      "|   GasA  |     Gd    |     Y      |   SBrkr    |   961    |   756    |      0       |\n",
      "|   GasA  |     Ex    |     Y      |   SBrkr    |   1145   |   1053   |      0       |\n",
      "|   GasA  |     Ex    |     Y      |   SBrkr    |   796    |   566    |      0       |\n",
      "|   GasA  |     Ex    |     Y      |   SBrkr    |   1694   |    0     |      0       |\n",
      "|   GasA  |     Ex    |     Y      |   SBrkr    |   1107   |   983    |      0       |\n",
      "|   GasA  |     Gd    |     Y      |   FuseF    |   1022   |   752    |      0       |\n",
      "|   GasA  |     Ex    |     Y      |   SBrkr    |   1077   |    0     |      0       |\n",
      "|   GasA  |     Ex    |     Y      |   SBrkr    |   1040   |    0     |      0       |\n",
      "|   GasA  |     Ex    |     Y      |   SBrkr    |   1182   |   1142   |      0       |\n",
      "|   GasA  |     TA    |     Y      |   SBrkr    |   912    |    0     |      0       |\n",
      "|   GasA  |     Ex    |     Y      |   SBrkr    |   1494   |    0     |      0       |\n",
      "|   GasA  |     TA    |     Y      |   SBrkr    |   1253   |    0     |      0       |\n",
      "|   GasA  |     Ex    |     Y      |   FuseA    |   854    |    0     |      0       |\n",
      "|   GasA  |     Ex    |     Y      |   SBrkr    |   1004   |    0     |      0       |\n",
      "|   GasA  |     TA    |     Y      |   SBrkr    |   1296   |    0     |      0       |\n",
      "|   GasA  |     Ex    |     Y      |   SBrkr    |   1114   |    0     |      0       |\n",
      "|   GasA  |     TA    |     Y      |   SBrkr    |   1339   |    0     |      0       |\n",
      "+---------+-----------+------------+------------+----------+----------+--------------+\n",
      "+-----------+--------------+--------------+----------+----------+--------------+\n",
      "| GrLivArea | BsmtFullBath | BsmtHalfBath | FullBath | HalfBath | BedroomAbvGr |\n",
      "+-----------+--------------+--------------+----------+----------+--------------+\n",
      "|    1710   |      1       |      0       |    2     |    1     |      3       |\n",
      "|    1262   |      0       |      1       |    2     |    0     |      3       |\n",
      "|    1786   |      1       |      0       |    2     |    1     |      3       |\n",
      "|    1717   |      1       |      0       |    1     |    0     |      3       |\n",
      "|    2198   |      1       |      0       |    2     |    1     |      4       |\n",
      "|    1362   |      1       |      0       |    1     |    1     |      1       |\n",
      "|    1694   |      1       |      0       |    2     |    0     |      3       |\n",
      "|    2090   |      1       |      0       |    2     |    1     |      3       |\n",
      "|    1774   |      0       |      0       |    2     |    0     |      2       |\n",
      "|    1077   |      1       |      0       |    1     |    0     |      2       |\n",
      "|    1040   |      1       |      0       |    1     |    0     |      3       |\n",
      "|    2324   |      1       |      0       |    3     |    0     |      4       |\n",
      "|    912    |      1       |      0       |    1     |    0     |      2       |\n",
      "|    1494   |      0       |      0       |    2     |    0     |      3       |\n",
      "|    1253   |      1       |      0       |    1     |    1     |      2       |\n",
      "|    854    |      0       |      0       |    1     |    0     |      2       |\n",
      "|    1004   |      1       |      0       |    1     |    0     |      2       |\n",
      "|    1296   |      0       |      0       |    2     |    0     |      2       |\n",
      "|    1114   |      1       |      0       |    1     |    1     |      3       |\n",
      "|    1339   |      0       |      0       |    1     |    0     |      3       |\n",
      "+-----------+--------------+--------------+----------+----------+--------------+\n",
      "+--------------+-------------+--------------+------------+------------+-------------+\n",
      "| KitchenAbvGr | KitchenQual | TotRmsAbvGrd | Functional | Fireplaces | FireplaceQu |\n",
      "+--------------+-------------+--------------+------------+------------+-------------+\n",
      "|      1       |      Gd     |      8       |    Typ     |     0      |     None    |\n",
      "|      1       |      TA     |      6       |    Typ     |     1      |      TA     |\n",
      "|      1       |      Gd     |      6       |    Typ     |     1      |      TA     |\n",
      "|      1       |      Gd     |      7       |    Typ     |     1      |      Gd     |\n",
      "|      1       |      Gd     |      9       |    Typ     |     1      |      TA     |\n",
      "|      1       |      TA     |      5       |    Typ     |     0      |     None    |\n",
      "|      1       |      Gd     |      7       |    Typ     |     1      |      Gd     |\n",
      "|      1       |      TA     |      7       |    Typ     |     2      |      TA     |\n",
      "|      2       |      TA     |      8       |    Min1    |     2      |      TA     |\n",
      "|      2       |      TA     |      5       |    Typ     |     2      |      TA     |\n",
      "|      1       |      TA     |      5       |    Typ     |     0      |     None    |\n",
      "|      1       |      Ex     |      11      |    Typ     |     2      |      Gd     |\n",
      "|      1       |      TA     |      4       |    Typ     |     0      |     None    |\n",
      "|      1       |      Gd     |      7       |    Typ     |     1      |      Gd     |\n",
      "|      1       |      TA     |      5       |    Typ     |     1      |      Fa     |\n",
      "|      1       |      TA     |      5       |    Typ     |     0      |     None    |\n",
      "|      1       |      TA     |      5       |    Typ     |     1      |      TA     |\n",
      "|      2       |      TA     |      6       |    Typ     |     0      |     None    |\n",
      "|      1       |      Gd     |      6       |    Typ     |     0      |     None    |\n",
      "|      1       |      TA     |      6       |    Min1    |     0      |     None    |\n",
      "+--------------+-------------+--------------+------------+------------+-------------+\n",
      "+------------+-------------+--------------+------------+------------+------------+\n",
      "| GarageType | GarageYrBlt | GarageFinish | GarageCars | GarageArea | GarageQual |\n",
      "+------------+-------------+--------------+------------+------------+------------+\n",
      "|   Attchd   |     2003    |     RFn      |     2      |    548     |     TA     |\n",
      "|   Attchd   |     1976    |     RFn      |     2      |    460     |     TA     |\n",
      "|   Attchd   |     2001    |     RFn      |     2      |    608     |     TA     |\n",
      "|   Detchd   |     1998    |     Unf      |     3      |    642     |     TA     |\n",
      "|   Attchd   |     2000    |     RFn      |     3      |    836     |     TA     |\n",
      "|   Attchd   |     1993    |     Unf      |     2      |    480     |     TA     |\n",
      "|   Attchd   |     2004    |     RFn      |     2      |    636     |     TA     |\n",
      "|   Attchd   |     1973    |     RFn      |     2      |    484     |     TA     |\n",
      "|   Detchd   |     1931    |     Unf      |     2      |    468     |     Fa     |\n",
      "|   Attchd   |     1939    |     RFn      |     1      |    205     |     Gd     |\n",
      "|   Detchd   |     1965    |     Unf      |     1      |    384     |     TA     |\n",
      "|  BuiltIn   |     2005    |     Fin      |     3      |    736     |     TA     |\n",
      "|   Detchd   |     1962    |     Unf      |     1      |    352     |     TA     |\n",
      "|   Attchd   |     2006    |     RFn      |     3      |    840     |     TA     |\n",
      "|   Attchd   |     1960    |     RFn      |     1      |    352     |     TA     |\n",
      "|   Detchd   |     1991    |     Unf      |     2      |    576     |     TA     |\n",
      "|   Attchd   |     1970    |     Fin      |     2      |    480     |     TA     |\n",
      "|  CarPort   |     1967    |     Unf      |     2      |    516     |     TA     |\n",
      "|   Detchd   |     2004    |     Unf      |     2      |    576     |     TA     |\n",
      "|   Attchd   |     1958    |     Unf      |     1      |    294     |     TA     |\n",
      "+------------+-------------+--------------+------------+------------+------------+\n",
      "+------------+------------+------------+-------------+---------------+-----------+\n",
      "| GarageCond | PavedDrive | WoodDeckSF | OpenPorchSF | EnclosedPorch | 3SsnPorch |\n",
      "+------------+------------+------------+-------------+---------------+-----------+\n",
      "|     TA     |     Y      |     0      |      61     |       0       |     0     |\n",
      "|     TA     |     Y      |    298     |      0      |       0       |     0     |\n",
      "|     TA     |     Y      |     0      |      42     |       0       |     0     |\n",
      "|     TA     |     Y      |     0      |      35     |      272      |     0     |\n",
      "|     TA     |     Y      |    192     |      84     |       0       |     0     |\n",
      "|     TA     |     Y      |     40     |      30     |       0       |    320    |\n",
      "|     TA     |     Y      |    255     |      57     |       0       |     0     |\n",
      "|     TA     |     Y      |    235     |     204     |      228      |     0     |\n",
      "|     TA     |     Y      |     90     |      0      |      205      |     0     |\n",
      "|     TA     |     Y      |     0      |      4      |       0       |     0     |\n",
      "|     TA     |     Y      |     0      |      0      |       0       |     0     |\n",
      "|     TA     |     Y      |    147     |      21     |       0       |     0     |\n",
      "|     TA     |     Y      |    140     |      0      |       0       |     0     |\n",
      "|     TA     |     Y      |    160     |      33     |       0       |     0     |\n",
      "|     TA     |     Y      |     0      |     213     |      176      |     0     |\n",
      "|     TA     |     Y      |     48     |     112     |       0       |     0     |\n",
      "|     TA     |     Y      |     0      |      0      |       0       |     0     |\n",
      "|     TA     |     Y      |     0      |      0      |       0       |     0     |\n",
      "|     TA     |     Y      |     0      |     102     |       0       |     0     |\n",
      "|     TA     |     Y      |     0      |      0      |       0       |     0     |\n",
      "+------------+------------+------------+-------------+---------------+-----------+\n",
      "+-------------+----------+--------+-------+-------------+---------+--------+\n",
      "| ScreenPorch | PoolArea | PoolQC | Fence | MiscFeature | MiscVal | MoSold |\n",
      "+-------------+----------+--------+-------+-------------+---------+--------+\n",
      "|      0      |    0     |  None  |  None |     None    |    0    |   2    |\n",
      "|      0      |    0     |  None  |  None |     None    |    0    |   5    |\n",
      "|      0      |    0     |  None  |  None |     None    |    0    |   9    |\n",
      "|      0      |    0     |  None  |  None |     None    |    0    |   2    |\n",
      "|      0      |    0     |  None  |  None |     None    |    0    |   12   |\n",
      "|      0      |    0     |  None  | MnPrv |     Shed    |   700   |   10   |\n",
      "|      0      |    0     |  None  |  None |     None    |    0    |   8    |\n",
      "|      0      |    0     |  None  |  None |     Shed    |   350   |   11   |\n",
      "|      0      |    0     |  None  |  None |     None    |    0    |   4    |\n",
      "|      0      |    0     |  None  |  None |     None    |    0    |   1    |\n",
      "|      0      |    0     |  None  |  None |     None    |    0    |   2    |\n",
      "|      0      |    0     |  None  |  None |     None    |    0    |   7    |\n",
      "|     176     |    0     |  None  |  None |     None    |    0    |   9    |\n",
      "|      0      |    0     |  None  |  None |     None    |    0    |   8    |\n",
      "|      0      |    0     |  None  |  GdWo |     None    |    0    |   5    |\n",
      "|      0      |    0     |  None  | GdPrv |     None    |    0    |   7    |\n",
      "|      0      |    0     |  None  |  None |     Shed    |   700   |   3    |\n",
      "|      0      |    0     |  None  |  None |     Shed    |   500   |   10   |\n",
      "|      0      |    0     |  None  |  None |     None    |    0    |   6    |\n",
      "|      0      |    0     |  None  | MnPrv |     None    |    0    |   5    |\n",
      "+-------------+----------+--------+-------+-------------+---------+--------+\n",
      "+--------+----------+---------------+-----------+\n",
      "| YrSold | SaleType | SaleCondition | SalePrice |\n",
      "+--------+----------+---------------+-----------+\n",
      "|  2008  |    WD    |     Normal    |   208500  |\n",
      "|  2007  |    WD    |     Normal    |   181500  |\n",
      "|  2008  |    WD    |     Normal    |   223500  |\n",
      "|  2006  |    WD    |    Abnorml    |   140000  |\n",
      "|  2008  |    WD    |     Normal    |   250000  |\n",
      "|  2009  |    WD    |     Normal    |   143000  |\n",
      "|  2007  |    WD    |     Normal    |   307000  |\n",
      "|  2009  |    WD    |     Normal    |   200000  |\n",
      "|  2008  |    WD    |    Abnorml    |   129900  |\n",
      "|  2008  |    WD    |     Normal    |   118000  |\n",
      "|  2008  |    WD    |     Normal    |   129500  |\n",
      "|  2006  |   New    |    Partial    |   345000  |\n",
      "|  2008  |    WD    |     Normal    |   144000  |\n",
      "|  2007  |   New    |    Partial    |   279500  |\n",
      "|  2008  |    WD    |     Normal    |   157000  |\n",
      "|  2007  |    WD    |     Normal    |   132000  |\n",
      "|  2010  |    WD    |     Normal    |   149000  |\n",
      "|  2006  |    WD    |     Normal    |   90000   |\n",
      "|  2008  |    WD    |     Normal    |   159000  |\n",
      "|  2009  |   COD    |    Abnorml    |   139000  |\n",
      "+--------+----------+---------------+-----------+\n",
      "[1460 rows x 81 columns]\n",
      "\n"
     ]
    }
   ],
   "source": [
    "trainData.print_rows(num_rows=20, num_columns=81) \n"
   ]
  },
  {
   "cell_type": "code",
   "execution_count": 16,
   "metadata": {
    "collapsed": false
   },
   "outputs": [
    {
     "data": {
      "application/javascript": [
       "$(\"head\").append($(\"<link/>\").attr({\n",
       "  rel:  \"stylesheet\",\n",
       "  type: \"text/css\",\n",
       "  href: \"//cdnjs.cloudflare.com/ajax/libs/font-awesome/4.1.0/css/font-awesome.min.css\"\n",
       "}));\n",
       "$(\"head\").append($(\"<link/>\").attr({\n",
       "  rel:  \"stylesheet\",\n",
       "  type: \"text/css\",\n",
       "  href: \"https://static.turi.com/products/graphlab-create/2.1/canvas/css/canvas.css\"\n",
       "}));\n",
       "\n",
       "            (function(){\n",
       "\n",
       "                var e = null;\n",
       "                if (typeof element == 'undefined') {\n",
       "                    var scripts = document.getElementsByTagName('script');\n",
       "                    var thisScriptTag = scripts[scripts.length-1];\n",
       "                    var parentDiv = thisScriptTag.parentNode;\n",
       "                    e = document.createElement('div');\n",
       "                    parentDiv.appendChild(e);\n",
       "                } else {\n",
       "                    e = element[0];\n",
       "                }\n",
       "\n",
       "                if (typeof requirejs !== 'undefined') {\n",
       "                    // disable load timeout; ipython_app.js is large and can take a while to load.\n",
       "                    requirejs.config({waitSeconds: 0});\n",
       "                }\n",
       "\n",
       "                require(['https://static.turi.com/products/graphlab-create/2.1/canvas/js/ipython_app.js'], function(IPythonApp){\n",
       "                    var app = new IPythonApp();\n",
       "                    app.attachView('sframe','Plots', {\"selected_variable\": {\"name\": [\"trainData\"], \"descriptives\": {\"rows\": 1460, \"columns\": 81}, \"view_component\": \"Plots\", \"view_file\": \"sframe\", \"view_params\": {\"y\": [\"SalePrice\", \"Neighborhood\"], \"x\": \"LotArea\", \"columns\": [\"Id\", \"MSSubClass\", \"MSZoning\", \"LotFrontage\", \"LotArea\", \"Street\", \"Alley\", \"LotShape\", \"LandContour\", \"Utilities\", \"LotConfig\", \"LandSlope\", \"Neighborhood\", \"Condition1\", \"Condition2\", \"BldgType\", \"HouseStyle\", \"OverallQual\", \"OverallCond\", \"YearBuilt\", \"YearRemodAdd\", \"RoofStyle\", \"RoofMatl\", \"Exterior1st\", \"Exterior2nd\", \"MasVnrType\", \"MasVnrArea\", \"ExterQual\", \"ExterCond\", \"Foundation\", \"BsmtQual\", \"BsmtCond\", \"BsmtExposure\", \"BsmtFinType1\", \"BsmtFinSF1\", \"BsmtFinType2\", \"BsmtFinSF2\", \"BsmtUnfSF\", \"TotalBsmtSF\", \"Heating\", \"HeatingQC\", \"CentralAir\", \"Electrical\", \"1stFlrSF\", \"2ndFlrSF\", \"LowQualFinSF\", \"GrLivArea\", \"BsmtFullBath\", \"BsmtHalfBath\", \"FullBath\", \"HalfBath\", \"BedroomAbvGr\", \"KitchenAbvGr\", \"KitchenQual\", \"TotRmsAbvGrd\", \"Functional\", \"Fireplaces\", \"FireplaceQu\", \"GarageType\", \"GarageYrBlt\", \"GarageFinish\", \"GarageCars\", \"GarageArea\", \"GarageQual\", \"GarageCond\", \"PavedDrive\", \"WoodDeckSF\", \"OpenPorchSF\", \"EnclosedPorch\", \"3SsnPorch\", \"ScreenPorch\", \"PoolArea\", \"PoolQC\", \"Fence\", \"MiscFeature\", \"MiscVal\", \"MoSold\", \"YrSold\", \"SaleType\", \"SaleCondition\", \"SalePrice\"], \"view\": \"Scatter Plot\"}, \"view_components\": [\"Summary\", \"Table\", \"Bar Chart\", \"BoxWhisker Plot\", \"Line Chart\", \"Scatter Plot\", \"Heat Map\", \"Plots\"], \"type\": \"SFrame\", \"columns\": [{\"dtype\": \"int\", \"name\": \"Id\"}, {\"dtype\": \"int\", \"name\": \"MSSubClass\"}, {\"dtype\": \"str\", \"name\": \"MSZoning\"}, {\"dtype\": \"int\", \"name\": \"LotFrontage\"}, {\"dtype\": \"int\", \"name\": \"LotArea\"}, {\"dtype\": \"str\", \"name\": \"Street\"}, {\"dtype\": \"str\", \"name\": \"Alley\"}, {\"dtype\": \"str\", \"name\": \"LotShape\"}, {\"dtype\": \"str\", \"name\": \"LandContour\"}, {\"dtype\": \"str\", \"name\": \"Utilities\"}, {\"dtype\": \"str\", \"name\": \"LotConfig\"}, {\"dtype\": \"str\", \"name\": \"LandSlope\"}, {\"dtype\": \"str\", \"name\": \"Neighborhood\"}, {\"dtype\": \"str\", \"name\": \"Condition1\"}, {\"dtype\": \"str\", \"name\": \"Condition2\"}, {\"dtype\": \"str\", \"name\": \"BldgType\"}, {\"dtype\": \"str\", \"name\": \"HouseStyle\"}, {\"dtype\": \"int\", \"name\": \"OverallQual\"}, {\"dtype\": \"int\", \"name\": \"OverallCond\"}, {\"dtype\": \"int\", \"name\": \"YearBuilt\"}, {\"dtype\": \"int\", \"name\": \"YearRemodAdd\"}, {\"dtype\": \"str\", \"name\": \"RoofStyle\"}, {\"dtype\": \"str\", \"name\": \"RoofMatl\"}, {\"dtype\": \"str\", \"name\": \"Exterior1st\"}, {\"dtype\": \"str\", \"name\": \"Exterior2nd\"}, {\"dtype\": \"str\", \"name\": \"MasVnrType\"}, {\"dtype\": \"int\", \"name\": \"MasVnrArea\"}, {\"dtype\": \"str\", \"name\": \"ExterQual\"}, {\"dtype\": \"str\", \"name\": \"ExterCond\"}, {\"dtype\": \"str\", \"name\": \"Foundation\"}, {\"dtype\": \"str\", \"name\": \"BsmtQual\"}, {\"dtype\": \"str\", \"name\": \"BsmtCond\"}, {\"dtype\": \"str\", \"name\": \"BsmtExposure\"}, {\"dtype\": \"str\", \"name\": \"BsmtFinType1\"}, {\"dtype\": \"int\", \"name\": \"BsmtFinSF1\"}, {\"dtype\": \"str\", \"name\": \"BsmtFinType2\"}, {\"dtype\": \"int\", \"name\": \"BsmtFinSF2\"}, {\"dtype\": \"int\", \"name\": \"BsmtUnfSF\"}, {\"dtype\": \"int\", \"name\": \"TotalBsmtSF\"}, {\"dtype\": \"str\", \"name\": \"Heating\"}, {\"dtype\": \"str\", \"name\": \"HeatingQC\"}, {\"dtype\": \"str\", \"name\": \"CentralAir\"}, {\"dtype\": \"str\", \"name\": \"Electrical\"}, {\"dtype\": \"int\", \"name\": \"1stFlrSF\"}, {\"dtype\": \"int\", \"name\": \"2ndFlrSF\"}, {\"dtype\": \"int\", \"name\": \"LowQualFinSF\"}, {\"dtype\": \"int\", \"name\": \"GrLivArea\"}, {\"dtype\": \"int\", \"name\": \"BsmtFullBath\"}, {\"dtype\": \"int\", \"name\": \"BsmtHalfBath\"}, {\"dtype\": \"int\", \"name\": \"FullBath\"}, {\"dtype\": \"int\", \"name\": \"HalfBath\"}, {\"dtype\": \"int\", \"name\": \"BedroomAbvGr\"}, {\"dtype\": \"int\", \"name\": \"KitchenAbvGr\"}, {\"dtype\": \"str\", \"name\": \"KitchenQual\"}, {\"dtype\": \"int\", \"name\": \"TotRmsAbvGrd\"}, {\"dtype\": \"str\", \"name\": \"Functional\"}, {\"dtype\": \"int\", \"name\": \"Fireplaces\"}, {\"dtype\": \"str\", \"name\": \"FireplaceQu\"}, {\"dtype\": \"str\", \"name\": \"GarageType\"}, {\"dtype\": \"int\", \"name\": \"GarageYrBlt\"}, {\"dtype\": \"str\", \"name\": \"GarageFinish\"}, {\"dtype\": \"int\", \"name\": \"GarageCars\"}, {\"dtype\": \"int\", \"name\": \"GarageArea\"}, {\"dtype\": \"str\", \"name\": \"GarageQual\"}, {\"dtype\": \"str\", \"name\": \"GarageCond\"}, {\"dtype\": \"str\", \"name\": \"PavedDrive\"}, {\"dtype\": \"int\", \"name\": \"WoodDeckSF\"}, {\"dtype\": \"int\", \"name\": \"OpenPorchSF\"}, {\"dtype\": \"int\", \"name\": \"EnclosedPorch\"}, {\"dtype\": \"int\", \"name\": \"3SsnPorch\"}, {\"dtype\": \"int\", \"name\": \"ScreenPorch\"}, {\"dtype\": \"int\", \"name\": \"PoolArea\"}, {\"dtype\": \"str\", \"name\": \"PoolQC\"}, {\"dtype\": \"str\", \"name\": \"Fence\"}, {\"dtype\": \"str\", \"name\": \"MiscFeature\"}, {\"dtype\": \"int\", \"name\": \"MiscVal\"}, {\"dtype\": \"int\", \"name\": \"MoSold\"}, {\"dtype\": \"int\", \"name\": \"YrSold\"}, {\"dtype\": \"str\", \"name\": \"SaleType\"}, {\"dtype\": \"str\", \"name\": \"SaleCondition\"}, {\"dtype\": \"int\", \"name\": \"SalePrice\"}], \"column_identifiers\": [\"3SsnPorch\", \"MasVnrType\", \"LotConfig\", \"LandSlope\", \"GarageQual\", \"Exterior1st\", \"GarageFinish\", \"2ndFlrSF\", \"HalfBath\", \"OverallQual\", \"OverallCond\", \"LotArea\", \"Electrical\", \"SalePrice\", \"BsmtQual\", \"HouseStyle\", \"GrLivArea\", \"YearRemodAdd\", \"MasVnrArea\", \"Foundation\", \"1stFlrSF\", \"BsmtFullBath\", \"BsmtCond\", \"HeatingQC\", \"LotFrontage\", \"MiscVal\", \"CentralAir\", \"BsmtExposure\", \"Utilities\", \"KitchenAbvGr\", \"WoodDeckSF\", \"LotShape\", \"BsmtHalfBath\", \"TotalBsmtSF\", \"Condition1\", \"Condition2\", \"TotRmsAbvGrd\", \"MiscFeature\", \"YrSold\", \"PavedDrive\", \"OpenPorchSF\", \"LowQualFinSF\", \"BsmtUnfSF\", \"GarageYrBlt\", \"BldgType\", \"FullBath\", \"SaleType\", \"MSZoning\", \"Exterior2nd\", \"Heating\", \"MSSubClass\", \"GarageCars\", \"YearBuilt\", \"KitchenQual\", \"BsmtFinType2\", \"BsmtFinType1\", \"BsmtFinSF1\", \"BsmtFinSF2\", \"GarageType\", \"LandContour\", \"PoolArea\", \"Neighborhood\", \"ScreenPorch\", \"Fence\", \"MoSold\", \"SaleCondition\", \"ExterQual\", \"Functional\", \"Alley\", \"RoofStyle\", \"Street\", \"Fireplaces\", \"GarageArea\", \"ExterCond\", \"PoolQC\", \"FireplaceQu\", \"EnclosedPorch\", \"RoofMatl\", \"Id\", \"BedroomAbvGr\", \"GarageCond\"]}, \"complete\": 1, \"ipython\": true, \"progress\": 1.0, \"data\": [[8450, 1], [9600, 2], [11250, 3], [9550, 4], [14260, 5], [14115, 6], [10084, 7], [10382, 8], [6120, 9], [7420, 10], [11200, 11], [11924, 12], [12968, 13], [10652, 14], [10920, 15], [6120, 16], [9245, 1048], [9000, 1144], [10944, 1427], [9750, 1373], [14684, 1206], [19690, 1424], [9742, 23], [4224, 24], [8246, 25], [14230, 26], [4230, 1318], [7585, 1073], [16321, 29], [6324, 30], [8500, 31], [8544, 32], [9069, 1086], [10552, 34], [7313, 35], [13418, 36], [10859, 37], [8532, 38], [7922, 39], [6040, 40], [8658, 41], [7415, 1402], [9180, 43], [9200, 44], [9400, 1284], [5381, 1043], [12822, 47], [11096, 48], [4456, 49], [7742, 50], [17400, 1435], [6240, 52], [10000, 1448], [8800, 1283], [12513, 1363], [10175, 56], [2645, 57], [11645, 58], [13682, 59], [7200, 60], [13072, 61], [7200, 62], [18030, 1174], [10300, 64], [9375, 65], [13600, 1063], [19900, 67], [10665, 68], [4608, 69], [15593, 70], [8910, 1104], [10152, 1071], [9600, 1045], [10200, 74], [5790, 75], [1596, 76], [8158, 1241], [8635, 78], [10778, 79], [3363, 1305], [13000, 81], [4500, 82], [8993, 1051], [8892, 84], [8724, 1163], [12160, 1234], [11911, 87], [9717, 1459], [8470, 89], [13825, 1119], [6000, 1099], [7910, 1230], [13360, 93], [7200, 94], [9337, 95], [9765, 96], [10264, 97], [10921, 98], [3735, 1266], [4045, 1395], [10603, 101], [9206, 102], [7018, 103], [10402, 104], [7758, 105], [10475, 1167], [1680, 1292], [6000, 108], [8500, 109], [11751, 110], [9525, 111], [7750, 112], [9965, 113], [21000, 114], [7259, 115], [9638, 1285], [11616, 117], [8536, 118], [9247, 1352], [7500, 1082], [7094, 1216], [5250, 1350], [10000, 1331], [7892, 124], [17043, 125], [7153, 1310], [4928, 127], [6600, 1293], [7590, 129], [8700, 1297], [14200, 131], [12224, 132], [7388, 133], [6853, 134], [10335, 135], [10400, 136], [8556, 1075], [8930, 1217], [17500, 1311], [15426, 140], [10500, 141], [11645, 142], [9000, 1150], [8872, 1228], [9100, 145], [7500, 1300], [6120, 147], [9505, 148], [7500, 149], [6240, 150], [10356, 151], [9750, 1204], [7750, 1117], [13500, 154], [11340, 155], [9600, 156], [7200, 157], [12003, 158], [12552, 159], [19378, 160], [11120, 161], [10206, 1001], [12182, 163], [9738, 1186], [9125, 1125], [21286, 1011], [9849, 1242], [10562, 168], [8244, 169], [12546, 1430], [12358, 171], [31770, 172], [5306, 173], [10197, 174], [10574, 1088], [12615, 176], [10029, 177], [13650, 178], [3675, 1453], [8520, 180], [2117, 181], [7588, 182], [9060, 183], [11426, 184], [7438, 185], [11250, 1263], [9947, 187], [10140, 1205], [7018, 189], [17755, 1152], [10570, 191], [7472, 192], [9017, 193], [2522, 194], [7180, 195], [2280, 196], [9416, 197], [16196, 1349], [5520, 199], [9591, 200], [8546, 201], [4435, 1369], [7000, 203], [9084, 1330], [6627, 1322], [11851, 206], [13673, 207], [12493, 208], [14364, 209], [8250, 210], [5604, 211], [10420, 212], [8640, 213], [13568, 214], [10900, 215], [10011, 216], [5362, 1275], [9906, 218], [15660, 219], [3010, 220], [8990, 221], [8068, 222], [8780, 1408], [10500, 224], [7560, 1120], [1680, 226], [9950, 227], [1869, 228], [11340, 1417], [3182, 230], [8760, 231], [7838, 1393], [1680, 233], [10650, 234], [7851, 235], [1680, 236], [8773, 237], [10434, 1126], [12030, 239], [8741, 240], [9000, 241], [5890, 1154], [5000, 243], [10762, 244], [8880, 245], [10400, 246], [9142, 247], [11310, 248], [10120, 1303], [159000, 250], [12393, 1238], [4750, 252], [10800, 1184], [9350, 254], [9179, 1367], [8738, 256], [8791, 257], [10440, 1329], [12435, 259], [12702, 260], [19296, 261], [9588, 262], [8471, 263], [5500, 264], [5232, 265], [12090, 266], [11207, 267], [7406, 1022], [6900, 269], [7917, 270], [10728, 271], [39104, 272], [11764, 273], [12090, 1246], [13450, 1339], [1533, 1450], [9196, 277], [19138, 278], [9735, 1380], [10005, 280], [11287, 281], [7200, 282], [5063, 283], [9612, 284], [9900, 1133], [4251, 286], [9786, 287], [7407, 1439], [12155, 1007], [8730, 290], [15611, 291], [10800, 1077], [11409, 293], [16659, 294], [9600, 295], [7937, 296], [2160, 1092], [7200, 1413], [11700, 299], [14000, 300], [15750, 301], [16226, 302], [7024, 1021], [13173, 1306], [18386, 305], [6762, 1403], [13474, 307], [6292, 1377], [10316, 1355], [6000, 1203], [9600, 1193], [8000, 312], [9120, 1172], [215245, 314], [9600, 315], [7795, 316], [13005, 317], [9000, 318], [9477, 1357], [14115, 320], [16259, 321], [12099, 322], [10357, 1107], [11170, 1181], [11275, 325], [5000, 326], [10846, 327], [11600, 328], [9000, 1437], [6402, 330], [10624, 331], [9937, 1460], [10655, 333], [8198, 334], [9042, 335], [164660, 336], [2368, 1335], [9135, 338], [14145, 339], [12400, 340], [1477, 1040], [8400, 342], [8544, 343], [8849, 344], [7837, 1067], [6435, 346], [12772, 347], [17600, 348], [2448, 349], [8525, 1235], [7820, 351], [5271, 352], [9084, 353], [8520, 354], [8400, 355], [11075, 1316], [9248, 357], [4224, 358], [6930, 359], [7500, 1280], [7540, 361], [9144, 362], [7301, 363], [1680, 364], [18800, 365], [10690, 366], [9500, 367], [8385, 1006], [7800, 369], [7200, 1334], [8121, 371], [17120, 372], [8250, 1222], [10634, 374], [8200, 375], [10625, 1375], [8846, 377], [11143, 378], [11394, 379], [8123, 380], [10140, 1294], [10762, 1301], [16381, 1420], [9000, 384], [53107, 385], [9790, 1287], [11400, 1374], [2217, 1008], [9382, 389], [9600, 1372], [8405, 391], [12209, 392], [8339, 393], [7446, 394], [10134, 395], [9571, 396], [14774, 1314], [7590, 398], [8967, 399], [8125, 400], [3182, 1024], [12000, 1309], [10200, 403], [8935, 1189], [10364, 405], [9991, 406], [10480, 407], [15576, 408], [14154, 409], [10800, 410], [8400, 1446], [34650, 412], [4403, 413], [8960, 414], [11228, 415], [5330, 1324], [10991, 1376], [4500, 1194], [11160, 1251], [8450, 420], [7060, 421], [16635, 422], [21750, 423], [10680, 1224], [9300, 1027], [3378, 426], [9758, 1102], [6180, 1136], [7728, 1232], [11457, 430], [1680, 431], [15306, 1348], [1920, 433], [10839, 434], [1890, 435], [10667, 436], [4400, 437], [6000, 438], [4280, 439], [12354, 440], [8212, 1381], [12108, 442], [6240, 443], [3922, 444], [8750, 445], [9855, 446], [16492, 447], [8072, 1308], [8600, 449], [6000, 450], [10615, 1187], [70761, 452], [9303, 453], [9000, 454], [9297, 455], [10712, 1132], [4571, 457], [8280, 1151], [5100, 459], [10800, 1433], [8004, 461], [11103, 1345], [8281, 463], [11988, 464], [8430, 465], [3072, 466], [6955, 1307], [23257, 1108], [15498, 1025], [13526, 1273], [6820, 471], [11952, 472], [3675, 473], [2628, 1237], [9042, 1458], [8480, 476], [16158, 1362], [13693, 478], [15256, 1404], [5925, 480], [8049, 1282], [6931, 1255], [4920, 1061], [10400, 1202], [7758, 485], [9000, 1451], [4043, 1422], [12243, 488], [10800, 489], [1526, 490], [2665, 491], [9490, 492], [8335, 1180], [7931, 494], [5784, 495], [7879, 496], [12936, 1277], [9120, 498], [7800, 499], [9156, 1272], [1890, 501], [9803, 502], [9170, 503], [15602, 504], [11361, 1056], [7596, 506], [9554, 507], [7862, 508], [6240, 1219], [8769, 1229], [14559, 511], [6792, 512], [9600, 1070], [9187, 514], [7763, 1209], [12220, 516], [8190, 1315], [10208, 518], [9531, 519], [10918, 520], [10800, 521], [11988, 522], [5000, 523], [11664, 1015], [9135, 1208], [7500, 526], [13300, 527], [14948, 528], [9098, 529], [16737, 1360], [10200, 531], [11344, 1270], [7200, 533], [5000, 534], [9056, 535], [7500, 1455], [8924, 537], [12735, 538], [17871, 1278], [11423, 540], [8172, 1295], [9880, 1171], [10140, 543], [10182, 1210], [3950, 1178], [13837, 546], [8737, 547], [6951, 1177], [8235, 549], [9375, 550], [4043, 551], [6000, 552], [11146, 553], [8777, 554], [11362, 1110], [6240, 1146], [5700, 1149], [11040, 558], [21872, 559], [4060, 1265], [11341, 561], [10010, 562], [13907, 563], [7740, 1409], [13346, 565], [6858, 566], [7350, 1141], [10171, 568], [12327, 569], [7032, 570], [13101, 571], [7332, 572], [11345, 1276], [13072, 1239], [11932, 1159], [14054, 1197], [6292, 577], [11777, 578], [3604, 579], [12150, 580], [9230, 1094], [10625, 1243], [11841, 583], [13500, 584], [11235, 1200], [9819, 1139], [10267, 587], [8740, 588], [6000, 1390], [14720, 1354], [8926, 1123], [13478, 592], [6600, 593], [4435, 594], [7990, 595], [11302, 596], [12900, 1164], [3922, 598], [12984, 599], [1950, 600], [10927, 601], [9000, 602], [10041, 603], [3182, 604], [12803, 605], [3136, 1252], [12464, 607], [7800, 608], [10482, 1226], [7943, 610], [11050, 611], [2522, 1089], [11885, 613], [8402, 614], [1491, 615], [8800, 616], [14572, 1128], [7227, 618], [8400, 1321], [7200, 1014], [8248, 621], [10800, 622], [7064, 623], [2117, 624], [9986, 1325], [10000, 626], [12925, 1382], [9600, 628], [5436, 1386], [35133, 1185], [9000, 631], [4590, 632], [1680, 1030], [9250, 634], [6979, 635], [9600, 1249], [6120, 637], [7200, 1383], [10215, 1320], [10084, 1122], [12677, 641], [8877, 1333], [14000, 1066], [10793, 644], [23595, 1271], [10530, 646], [8400, 1436], [12134, 1212], [7700, 649], [1936, 650], [8125, 651], [9084, 652], [20544, 1410], [36500, 1288], [10437, 655], [1680, 656], [10007, 657], [7200, 658], [17503, 659], [63887, 1299], [11308, 1059], [46589, 662], [13560, 663], [10012, 664], [20896, 665], [3316, 1090], [16157, 1165], [8923, 1114], [14175, 669], [11600, 670], [8633, 671], [6629, 672], [11250, 673], [14442, 674], [24682, 1261], [17542, 1254], [9600, 677], [9022, 678], [11844, 679], [10635, 1370], [8012, 681], [4500, 682], [8749, 1083], [4118, 1338], [16770, 685], [5062, 686], [10207, 687], [5105, 688], [8089, 689], [7577, 690], [4426, 691], [21535, 692], [26178, 693], [5400, 694], [11700, 1072], [13811, 696], [6000, 1064], [6420, 698], [5001, 1158], [4282, 700], [10768, 1156], [9600, 702], [12438, 703], [8640, 1218], [8400, 705], [9600, 1262], [115149, 707], [8731, 1140], [8850, 1198], [7162, 710], [4130, 711], [8712, 712], [4671, 713], [9873, 714], [13517, 715], [10140, 716], [7950, 1074], [10000, 718], [10542, 719], [9920, 720], [6563, 721], [4426, 722], [3684, 1127], [8172, 724], [13286, 725], [6960, 726], [11218, 1211], [7314, 728], [11475, 729], [6240, 730], [9587, 1259], [14112, 1291], [11404, 733], [10000, 734], [8978, 735], [13125, 1041], [9473, 1279], [10463, 738], [10800, 739], [11796, 1129], [9600, 741], [10800, 1394], [8450, 743], [29959, 1058], [5395, 745], [10592, 1013], [8795, 747], [11700, 748], [10593, 749], [8405, 750], [10410, 1405], [7750, 752], [9236, 753], [10240, 754], [7930, 755], [3230, 756], [10769, 757], [11616, 758], [9760, 1068], [16692, 1387], [9100, 761], [6911, 762], [8640, 763], [9430, 764], [9549, 765], [14587, 766], [10421, 767], [8775, 1080], [9500, 1053], [9130, 1042], [7252, 771], [10304, 1142], [7819, 773], [6600, 1328], [14226, 775], [9503, 1425], [11210, 777], [13515, 1264], [8400, 779], [12420, 1411], [7875, 781], [7153, 782], [11584, 1440], [9101, 784], [6300, 785], [9790, 786], [32463, 1191], [12665, 1396], [9825, 1012], [12898, 1037], [3182, 791], [11333, 792], [11435, 1245], [9158, 794], [10832, 795], [8400, 796], [7082, 1031], [7804, 1131], [13518, 799], [7200, 800], [12798, 801], [4800, 802], [8199, 803], [13891, 804], [8814, 1312], [10784, 1019], [9750, 807], [21384, 808], [13400, 809], [8100, 810], [9037, 1240], [4438, 812], [15384, 1225], [11839, 1044], [7681, 1179], [6000, 1401], [11175, 1052], [13265, 818], [8816, 819], [8400, 1016], [7226, 821], [6000, 822], [12394, 823], [9900, 824], [11216, 825], [14803, 826], [10226, 1317], [8529, 828], [28698, 829], [2544, 830], [13695, 1342], [9120, 1160], [9548, 833], [10004, 834], [7875, 835], [9600, 836], [8100, 837], [1680, 838], [12118, 1009], [11767, 840], [12155, 841], [10440, 842], [9020, 843], [8000, 844], [12665, 845], [16647, 846], [9317, 847], [15523, 848], [16545, 1418], [9600, 850], [4435, 851], [3196, 852], [7128, 853], [10678, 1176], [17920, 855], [6897, 856], [10970, 857], [1680, 1220], [8125, 1247], [11029, 860], [7052, 1057], [7917, 1456], [14778, 1162], [7931, 864], [8640, 865], [8750, 866], [10656, 867], [9375, 1343], [14762, 869], [1974, 1087], [6600, 871], [8750, 872], [9492, 1029], [12144, 874], [5720, 875], [9000, 876], [25286, 877], [8834, 878], [11782, 879], [7000, 880], [7024, 881], [13758, 882], [3964, 1069], [13214, 1268], [7200, 1399], [8900, 1207], [10780, 1332], [16466, 888], [15865, 889], [12160, 890], [8064, 891], [11184, 892], [8414, 893], [13284, 894], [5814, 1018], [8944, 1392], [8765, 897], [10721, 1426], [12919, 899], [6993, 900], [7340, 901], [8712, 902], [7875, 903], [14859, 904], [6173, 905], [11880, 1100], [13501, 907], [11500, 908], [8885, 909], [12589, 910], [11600, 911], [2117, 1359], [6120, 913], [6270, 914], [3000, 915], [2001, 916], [9000, 917], [17140, 918], [5400, 1371], [7500, 1302], [8462, 921], [8777, 922], [10237, 923], [8012, 924], [10240, 925], [15611, 926], [1533, 1039], [9900, 928], [3182, 1005], [13006, 930], [8925, 931], [18000, 1062], [11670, 933], [8487, 934], [27650, 935], [35760, 1170], [8800, 1084], [2016, 1105], [8562, 1054], [24090, 940], [12640, 941], [8755, 942], [10994, 1414], [25000, 944], [14375, 945], [8820, 946], [12537, 1358], [5400, 1115], [14006, 949], [9360, 950], [7200, 951], [7800, 952], [7200, 953], [11075, 954], [13728, 1169], [7136, 956], [1300, 957], [7420, 958], [9600, 1412], [2572, 960], [7207, 961], [13700, 1155], [2308, 963], [11923, 964], [11316, 965], [9317, 1096], [9439, 1023], [7390, 968], [5925, 969], [10382, 970], [16560, 1175], [2268, 972], [7892, 973], [11639, 974], [9100, 1199], [2651, 976], [5900, 977], [4274, 978], [2280, 1161], [8816, 980], [1953, 1379], [12203, 982], [3182, 983], [11250, 984], [10125, 985], [10880, 986], [5310, 987], [10159, 988], [12046, 989], [8125, 990], [4435, 1423], [17671, 992], [9262, 1452], [8846, 994], [12456, 995], [4712, 996], [10659, 997], [11717, 998], [9786, 999], [6762, 1000]], \"columns\": [{\"dtype\": \"int\", \"name\": \"Id\"}, {\"dtype\": \"int\", \"name\": \"MSSubClass\"}, {\"dtype\": \"str\", \"name\": \"MSZoning\"}, {\"dtype\": \"int\", \"name\": \"LotFrontage\"}, {\"dtype\": \"int\", \"name\": \"LotArea\"}, {\"dtype\": \"str\", \"name\": \"Street\"}, {\"dtype\": \"str\", \"name\": \"Alley\"}, {\"dtype\": \"str\", \"name\": \"LotShape\"}, {\"dtype\": \"str\", \"name\": \"LandContour\"}, {\"dtype\": \"str\", \"name\": \"Utilities\"}, {\"dtype\": \"str\", \"name\": \"LotConfig\"}, {\"dtype\": \"str\", \"name\": \"LandSlope\"}, {\"dtype\": \"str\", \"name\": \"Neighborhood\"}, {\"dtype\": \"str\", \"name\": \"Condition1\"}, {\"dtype\": \"str\", \"name\": \"Condition2\"}, {\"dtype\": \"str\", \"name\": \"BldgType\"}, {\"dtype\": \"str\", \"name\": \"HouseStyle\"}, {\"dtype\": \"int\", \"name\": \"OverallQual\"}, {\"dtype\": \"int\", \"name\": \"OverallCond\"}, {\"dtype\": \"int\", \"name\": \"YearBuilt\"}, {\"dtype\": \"int\", \"name\": \"YearRemodAdd\"}, {\"dtype\": \"str\", \"name\": \"RoofStyle\"}, {\"dtype\": \"str\", \"name\": \"RoofMatl\"}, {\"dtype\": \"str\", \"name\": \"Exterior1st\"}, {\"dtype\": \"str\", \"name\": \"Exterior2nd\"}, {\"dtype\": \"str\", \"name\": \"MasVnrType\"}, {\"dtype\": \"int\", \"name\": \"MasVnrArea\"}, {\"dtype\": \"str\", \"name\": \"ExterQual\"}, {\"dtype\": \"str\", \"name\": \"ExterCond\"}, {\"dtype\": \"str\", \"name\": \"Foundation\"}, {\"dtype\": \"str\", \"name\": \"BsmtQual\"}, {\"dtype\": \"str\", \"name\": \"BsmtCond\"}, {\"dtype\": \"str\", \"name\": \"BsmtExposure\"}, {\"dtype\": \"str\", \"name\": \"BsmtFinType1\"}, {\"dtype\": \"int\", \"name\": \"BsmtFinSF1\"}, {\"dtype\": \"str\", \"name\": \"BsmtFinType2\"}, {\"dtype\": \"int\", \"name\": \"BsmtFinSF2\"}, {\"dtype\": \"int\", \"name\": \"BsmtUnfSF\"}, {\"dtype\": \"int\", \"name\": \"TotalBsmtSF\"}, {\"dtype\": \"str\", \"name\": \"Heating\"}, {\"dtype\": \"str\", \"name\": \"HeatingQC\"}, {\"dtype\": \"str\", \"name\": \"CentralAir\"}, {\"dtype\": \"str\", \"name\": \"Electrical\"}, {\"dtype\": \"int\", \"name\": \"1stFlrSF\"}, {\"dtype\": \"int\", \"name\": \"2ndFlrSF\"}, {\"dtype\": \"int\", \"name\": \"LowQualFinSF\"}, {\"dtype\": \"int\", \"name\": \"GrLivArea\"}, {\"dtype\": \"int\", \"name\": \"BsmtFullBath\"}, {\"dtype\": \"int\", \"name\": \"BsmtHalfBath\"}, {\"dtype\": \"int\", \"name\": \"FullBath\"}, {\"dtype\": \"int\", \"name\": \"HalfBath\"}, {\"dtype\": \"int\", \"name\": \"BedroomAbvGr\"}, {\"dtype\": \"int\", \"name\": \"KitchenAbvGr\"}, {\"dtype\": \"str\", \"name\": \"KitchenQual\"}, {\"dtype\": \"int\", \"name\": \"TotRmsAbvGrd\"}, {\"dtype\": \"str\", \"name\": \"Functional\"}, {\"dtype\": \"int\", \"name\": \"Fireplaces\"}, {\"dtype\": \"str\", \"name\": \"FireplaceQu\"}, {\"dtype\": \"str\", \"name\": \"GarageType\"}, {\"dtype\": \"int\", \"name\": \"GarageYrBlt\"}, {\"dtype\": \"str\", \"name\": \"GarageFinish\"}, {\"dtype\": \"int\", \"name\": \"GarageCars\"}, {\"dtype\": \"int\", \"name\": \"GarageArea\"}, {\"dtype\": \"str\", \"name\": \"GarageQual\"}, {\"dtype\": \"str\", \"name\": \"GarageCond\"}, {\"dtype\": \"str\", \"name\": \"PavedDrive\"}, {\"dtype\": \"int\", \"name\": \"WoodDeckSF\"}, {\"dtype\": \"int\", \"name\": \"OpenPorchSF\"}, {\"dtype\": \"int\", \"name\": \"EnclosedPorch\"}, {\"dtype\": \"int\", \"name\": \"3SsnPorch\"}, {\"dtype\": \"int\", \"name\": \"ScreenPorch\"}, {\"dtype\": \"int\", \"name\": \"PoolArea\"}, {\"dtype\": \"str\", \"name\": \"PoolQC\"}, {\"dtype\": \"str\", \"name\": \"Fence\"}, {\"dtype\": \"str\", \"name\": \"MiscFeature\"}, {\"dtype\": \"int\", \"name\": \"MiscVal\"}, {\"dtype\": \"int\", \"name\": \"MoSold\"}, {\"dtype\": \"int\", \"name\": \"YrSold\"}, {\"dtype\": \"str\", \"name\": \"SaleType\"}, {\"dtype\": \"str\", \"name\": \"SaleCondition\"}, {\"dtype\": \"int\", \"name\": \"SalePrice\"}]}, e);\n",
       "                });\n",
       "            })();\n",
       "        "
      ]
     },
     "metadata": {},
     "output_type": "display_data"
    }
   ],
   "source": [
    "graphlab.canvas.set_target('ipynb')\n",
    "trainData.show(view=\"Scatter Plot\", x=\"LotArea\", y=[\"SalePrice\",\"Neighborhood\"])"
   ]
  },
  {
   "cell_type": "code",
   "execution_count": 17,
   "metadata": {
    "collapsed": true
   },
   "outputs": [],
   "source": [
    "import matplotlib.pyplot as plt\n",
    "%matplotlib inline"
   ]
  },
  {
   "cell_type": "code",
   "execution_count": null,
   "metadata": {
    "collapsed": true
   },
   "outputs": [],
   "source": []
  }
 ],
 "metadata": {
  "kernelspec": {
   "display_name": "Python [conda root]",
   "language": "python",
   "name": "conda-root-py"
  },
  "language_info": {
   "codemirror_mode": {
    "name": "ipython",
    "version": 2
   },
   "file_extension": ".py",
   "mimetype": "text/x-python",
   "name": "python",
   "nbconvert_exporter": "python",
   "pygments_lexer": "ipython2",
   "version": "2.7.12"
  }
 },
 "nbformat": 4,
 "nbformat_minor": 1
}
