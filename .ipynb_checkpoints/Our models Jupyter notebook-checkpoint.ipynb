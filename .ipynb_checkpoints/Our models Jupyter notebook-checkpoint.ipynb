{
 "cells": [
  {
   "cell_type": "code",
   "execution_count": 18,
   "metadata": {
    "collapsed": false
   },
   "outputs": [],
   "source": [
    "# Load libraries\n",
    "## General libraries\n",
    "from itertools import ifilter\n",
    "import numpy as np\n",
    "import inspect\n",
    "\n",
    "## For machine learning\n",
    "import graphlab\n",
    "import matplotlib.pyplot as plt\n",
    "%matplotlib inline"
   ]
  },
  {
   "cell_type": "code",
   "execution_count": 12,
   "metadata": {
    "collapsed": false
   },
   "outputs": [
    {
     "data": {
      "text/html": [
       "<pre>Finished parsing file /Users/tomarnoldussen/Documents/vse/data/train.csv</pre>"
      ],
      "text/plain": [
       "Finished parsing file /Users/tomarnoldussen/Documents/vse/data/train.csv"
      ]
     },
     "metadata": {},
     "output_type": "display_data"
    },
    {
     "data": {
      "text/html": [
       "<pre>Parsing completed. Parsed 100 lines in 0.031665 secs.</pre>"
      ],
      "text/plain": [
       "Parsing completed. Parsed 100 lines in 0.031665 secs."
      ]
     },
     "metadata": {},
     "output_type": "display_data"
    },
    {
     "name": "stdout",
     "output_type": "stream",
     "text": [
      "------------------------------------------------------\n",
      "Inferred types from first 100 line(s) of file as \n",
      "column_type_hints=[int,int,str,int,int,str,str,str,str,str,str,str,str,str,str,str,str,int,int,int,int,str,str,str,str,str,int,str,str,str,str,str,str,str,int,str,int,int,int,str,str,str,str,int,int,int,int,int,int,int,int,int,int,str,int,str,int,str,str,int,str,int,int,str,str,str,int,int,int,int,int,int,str,str,str,int,int,int,str,str,int]\n",
      "If parsing fails due to incorrect types, you can correct\n",
      "the inferred type list above and pass it to read_csv in\n",
      "the column_type_hints argument\n",
      "------------------------------------------------------\n"
     ]
    },
    {
     "data": {
      "text/html": [
       "<pre>Finished parsing file /Users/tomarnoldussen/Documents/vse/data/train.csv</pre>"
      ],
      "text/plain": [
       "Finished parsing file /Users/tomarnoldussen/Documents/vse/data/train.csv"
      ]
     },
     "metadata": {},
     "output_type": "display_data"
    },
    {
     "data": {
      "text/html": [
       "<pre>Parsing completed. Parsed 1460 lines in 0.024074 secs.</pre>"
      ],
      "text/plain": [
       "Parsing completed. Parsed 1460 lines in 0.024074 secs."
      ]
     },
     "metadata": {},
     "output_type": "display_data"
    },
    {
     "data": {
      "text/html": [
       "<pre>Finished parsing file /Users/tomarnoldussen/Documents/vse/data/test.csv</pre>"
      ],
      "text/plain": [
       "Finished parsing file /Users/tomarnoldussen/Documents/vse/data/test.csv"
      ]
     },
     "metadata": {},
     "output_type": "display_data"
    },
    {
     "data": {
      "text/html": [
       "<pre>Parsing completed. Parsed 100 lines in 0.031225 secs.</pre>"
      ],
      "text/plain": [
       "Parsing completed. Parsed 100 lines in 0.031225 secs."
      ]
     },
     "metadata": {},
     "output_type": "display_data"
    },
    {
     "name": "stdout",
     "output_type": "stream",
     "text": [
      "------------------------------------------------------\n",
      "Inferred types from first 100 line(s) of file as \n",
      "column_type_hints=[int,int,str,int,int,str,str,str,str,str,str,str,str,str,str,str,str,int,int,int,int,str,str,str,str,str,int,str,str,str,str,str,str,str,int,str,int,int,int,str,str,str,str,int,int,int,int,int,int,int,int,int,int,str,int,str,int,str,str,int,str,int,int,str,str,str,int,int,int,int,int,int,str,str,str,int,int,int,str,str,int]\n",
      "If parsing fails due to incorrect types, you can correct\n",
      "the inferred type list above and pass it to read_csv in\n",
      "the column_type_hints argument\n",
      "------------------------------------------------------\n"
     ]
    },
    {
     "data": {
      "text/html": [
       "<pre>Finished parsing file /Users/tomarnoldussen/Documents/vse/data/test.csv</pre>"
      ],
      "text/plain": [
       "Finished parsing file /Users/tomarnoldussen/Documents/vse/data/test.csv"
      ]
     },
     "metadata": {},
     "output_type": "display_data"
    },
    {
     "data": {
      "text/html": [
       "<pre>Parsing completed. Parsed 1459 lines in 0.026999 secs.</pre>"
      ],
      "text/plain": [
       "Parsing completed. Parsed 1459 lines in 0.026999 secs."
      ]
     },
     "metadata": {},
     "output_type": "display_data"
    }
   ],
   "source": [
    "# Load all data sources\n",
    "trainData = graphlab.SFrame('data/train.csv')\n",
    "testData = graphlab.SFrame('data/test.csv')\n",
    "\n",
    "# trainData.print_rows(num_rows=10, num_columns=81)\n"
   ]
  },
  {
   "cell_type": "code",
   "execution_count": 13,
   "metadata": {
    "collapsed": true
   },
   "outputs": [],
   "source": [
    "class loadModels():\n",
    "    def tomsModel(self):\n",
    "        #Name of your model\n",
    "        \"\"\"Tom's model\"\"\"\n",
    "        \n",
    "        sqft_model = graphlab.linear_regression.create(trainData, target='SalePrice', features=['GrLivArea'],validation_set=None,verbose=False)\n",
    "        return sqft_model"
   ]
  },
  {
   "cell_type": "code",
   "execution_count": 14,
   "metadata": {
    "collapsed": false
   },
   "outputs": [],
   "source": [
    "# Function to evaluate specific models\n",
    "def evaluateModels(models, data):\n",
    "    f = models()\n",
    "    attrs = (getattr(f, name) for name in dir(f))\n",
    "    methods = ifilter(inspect.ismethod, attrs)\n",
    "    tableColumns = [\"Model\", \"Max Error\", \"RMSE\"]\n",
    "    tableData = [np.empty( shape=(3, 3) )]\n",
    "    i = 0\n",
    "    for method in methods:\n",
    "        try:\n",
    "            test = method().evaluate(data)\n",
    "            tableData[i] = [method.__doc__, test['max_error'], test['rmse']]\n",
    "            i +=i \n",
    "        except TypeError:\n",
    "            # Can't handle methods with required arguments.\n",
    "            print \"error\"\n",
    "            pass\n",
    "    row_format =\"{:>15}\" * (len(tableColumns) + 1)\n",
    "    print row_format.format(\"\", *tableColumns)\n",
    "    for model, row in zip(tableColumns, tableData):\n",
    "        print row_format.format(model, *row)\n",
    "        \n",
    "\n",
    "# Function to create a CSV for testing at Kaggle competition\n",
    "# def generateCSVForKaggle(models, data):\n",
    "    "
   ]
  },
  {
   "cell_type": "code",
   "execution_count": 19,
   "metadata": {
    "collapsed": false
   },
   "outputs": [
    {
     "name": "stdout",
     "output_type": "stream",
     "text": [
      "                         Model      Max Error           RMSE\n",
      "          Model    Tom's model  564373.717396  185218.481945\n"
     ]
    }
   ],
   "source": [
    "# Call evaluation function on all models\n",
    "\n",
    "evaluateModels(loadModels, testData)"
   ]
  },
  {
   "cell_type": "code",
   "execution_count": null,
   "metadata": {
    "collapsed": true
   },
   "outputs": [],
   "source": []
  }
 ],
 "metadata": {
  "anaconda-cloud": {},
  "kernelspec": {
   "display_name": "Python [conda root]",
   "language": "python",
   "name": "conda-root-py"
  },
  "language_info": {
   "codemirror_mode": {
    "name": "ipython",
    "version": 2
   },
   "file_extension": ".py",
   "mimetype": "text/x-python",
   "name": "python",
   "nbconvert_exporter": "python",
   "pygments_lexer": "ipython2",
   "version": "2.7.12"
  }
 },
 "nbformat": 4,
 "nbformat_minor": 1
}
